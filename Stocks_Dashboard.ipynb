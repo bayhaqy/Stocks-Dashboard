{
  "nbformat": 4,
  "nbformat_minor": 0,
  "metadata": {
    "colab": {
      "provenance": [],
      "authorship_tag": "ABX9TyOT6fd5jnJV6saH5P9r83sB",
      "include_colab_link": true
    },
    "kernelspec": {
      "name": "python3",
      "display_name": "Python 3"
    },
    "language_info": {
      "name": "python"
    }
  },
  "cells": [
    {
      "cell_type": "markdown",
      "metadata": {
        "id": "view-in-github",
        "colab_type": "text"
      },
      "source": [
        "<a href=\"https://colab.research.google.com/github/bayhaqy/Stocks-Dashboard/blob/main/Stocks_Dashboard.ipynb\" target=\"_parent\"><img src=\"https://colab.research.google.com/assets/colab-badge.svg\" alt=\"Open In Colab\"/></a>"
      ]
    },
    {
      "cell_type": "markdown",
      "source": [
        "# Stocks-Dashboard"
      ],
      "metadata": {
        "id": "Gpw8-YK-a-PC"
      }
    },
    {
      "cell_type": "markdown",
      "source": [
        "### Import Repository"
      ],
      "metadata": {
        "id": "avp8XQEjDX79"
      }
    },
    {
      "cell_type": "code",
      "execution_count": 1,
      "metadata": {
        "colab": {
          "base_uri": "https://localhost:8080/"
        },
        "id": "RVYL85yyZ-dr",
        "outputId": "8ddc7692-502e-4fea-efcf-5f3cab322aec"
      },
      "outputs": [
        {
          "output_type": "stream",
          "name": "stdout",
          "text": [
            "Cloning into 'Stocks-Dashboard'...\n",
            "remote: Enumerating objects: 14, done.\u001b[K\n",
            "remote: Counting objects: 100% (14/14), done.\u001b[K\n",
            "remote: Compressing objects: 100% (14/14), done.\u001b[K\n",
            "remote: Total 14 (delta 0), reused 0 (delta 0), pack-reused 0\u001b[K\n",
            "Receiving objects: 100% (14/14), 2.80 MiB | 14.69 MiB/s, done.\n"
          ]
        }
      ],
      "source": [
        "!git clone https://github.com/bayhaqy/Stocks-Dashboard"
      ]
    },
    {
      "cell_type": "code",
      "source": [
        "cd Stocks-Dashboard/"
      ],
      "metadata": {
        "colab": {
          "base_uri": "https://localhost:8080/"
        },
        "id": "EuFolgrEad92",
        "outputId": "32b78ca2-f5f0-4fbf-afb1-e010704cd2e0"
      },
      "execution_count": 2,
      "outputs": [
        {
          "output_type": "stream",
          "name": "stdout",
          "text": [
            "/content/Stocks-Dashboard\n"
          ]
        }
      ]
    },
    {
      "cell_type": "code",
      "source": [
        "ls"
      ],
      "metadata": {
        "colab": {
          "base_uri": "https://localhost:8080/"
        },
        "id": "fuSjLsupaVVH",
        "outputId": "5100f7de-f236-4152-d2ec-eebacc90076a"
      },
      "execution_count": 4,
      "outputs": [
        {
          "output_type": "stream",
          "name": "stdout",
          "text": [
            "app.py  best_model_MAPI.h5  \u001b[0m\u001b[01;34mpages\u001b[0m/  README.md  Regression-Stocks-Prediction.ipynb  requirements.txt\n"
          ]
        }
      ]
    },
    {
      "cell_type": "markdown",
      "source": [
        "### Install Requirement Library"
      ],
      "metadata": {
        "id": "kqLK22MBbG9F"
      }
    },
    {
      "cell_type": "code",
      "source": [
        "!pip install -q -r requirements.txt"
      ],
      "metadata": {
        "colab": {
          "base_uri": "https://localhost:8080/"
        },
        "id": "Z9TX1oj9bMBO",
        "outputId": "0688bdec-54c0-4183-dcd0-85f0c2b6eca0"
      },
      "execution_count": 24,
      "outputs": [
        {
          "output_type": "stream",
          "name": "stdout",
          "text": [
            "\u001b[2K     \u001b[90m━━━━━━━━━━━━━━━━━━━━━━━━━━━━━━━━━━━━━━━━\u001b[0m \u001b[32m8.4/8.4 MB\u001b[0m \u001b[31m24.0 MB/s\u001b[0m eta \u001b[36m0:00:00\u001b[0m\n",
            "\u001b[2K     \u001b[90m━━━━━━━━━━━━━━━━━━━━━━━━━━━━━━━━━━━━━━━━\u001b[0m \u001b[32m190.6/190.6 kB\u001b[0m \u001b[31m17.0 MB/s\u001b[0m eta \u001b[36m0:00:00\u001b[0m\n",
            "\u001b[2K     \u001b[90m━━━━━━━━━━━━━━━━━━━━━━━━━━━━━━━━━━━━━━━━\u001b[0m \u001b[32m4.8/4.8 MB\u001b[0m \u001b[31m48.7 MB/s\u001b[0m eta \u001b[36m0:00:00\u001b[0m\n",
            "\u001b[2K     \u001b[90m━━━━━━━━━━━━━━━━━━━━━━━━━━━━━━━━━━━━━━━━\u001b[0m \u001b[32m82.1/82.1 kB\u001b[0m \u001b[31m7.3 MB/s\u001b[0m eta \u001b[36m0:00:00\u001b[0m\n",
            "\u001b[2K     \u001b[90m━━━━━━━━━━━━━━━━━━━━━━━━━━━━━━━━━━━━━━━━\u001b[0m \u001b[32m62.7/62.7 kB\u001b[0m \u001b[31m5.9 MB/s\u001b[0m eta \u001b[36m0:00:00\u001b[0m\n",
            "\u001b[?25h"
          ]
        }
      ]
    },
    {
      "cell_type": "markdown",
      "source": [
        "### Running"
      ],
      "metadata": {
        "id": "dvnbSPn62LMQ"
      }
    },
    {
      "cell_type": "code",
      "source": [
        "!streamlit run app.py --server.port 8000 &>/content/logs.txt &"
      ],
      "metadata": {
        "id": "LeXDV4yPc4rj"
      },
      "execution_count": 26,
      "outputs": []
    },
    {
      "cell_type": "code",
      "source": [
        "!apt-get upgrade && apt-get update"
      ],
      "metadata": {
        "id": "LE31sa2tZ1ni"
      },
      "execution_count": null,
      "outputs": []
    },
    {
      "cell_type": "code",
      "source": [
        "!npm install -g localtunnel@latest"
      ],
      "metadata": {
        "id": "CrDjXpcJa2Wg"
      },
      "execution_count": null,
      "outputs": []
    },
    {
      "cell_type": "code",
      "source": [
        "!curl ipv4.icanhazip.com;  cat /content/logs.txt &"
      ],
      "metadata": {
        "id": "XoBmm9fzdxHQ",
        "colab": {
          "base_uri": "https://localhost:8080/"
        },
        "outputId": "dcbc54b4-055d-4e00-802e-33aa67c22c69"
      },
      "execution_count": 27,
      "outputs": [
        {
          "output_type": "stream",
          "name": "stdout",
          "text": [
            "35.226.133.174\n",
            "\n",
            "Collecting usage statistics. To deactivate, set browser.gatherUsageStats to False.\n",
            "\n",
            "\n",
            "  You can now view your Streamlit app in your browser.\n",
            "\n",
            "  Network URL: http://172.28.0.12:8000\n",
            "  External URL: http://35.226.133.174:8000\n",
            "\n"
          ]
        }
      ]
    },
    {
      "cell_type": "code",
      "source": [
        "!npx localtunnel --port 8000"
      ],
      "metadata": {
        "id": "4DvoU_8TdEDg",
        "colab": {
          "base_uri": "https://localhost:8080/"
        },
        "outputId": "20d9d6c7-5845-45a9-80de-421ee0e5fc04"
      },
      "execution_count": 28,
      "outputs": [
        {
          "output_type": "stream",
          "name": "stdout",
          "text": [
            "\u001b[K\u001b[?25hnpx: installed 22 in 5.321s\n",
            "your url is: https://every-ducks-sin.loca.lt\n",
            "^C\n"
          ]
        }
      ]
    }
  ]
}